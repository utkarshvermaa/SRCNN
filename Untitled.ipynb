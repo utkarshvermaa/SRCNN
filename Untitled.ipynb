{
 "cells": [
  {
   "cell_type": "code",
   "execution_count": 1,
   "metadata": {},
   "outputs": [],
   "source": [
    "import tensorflow as tf\n",
    "import numpy as np\n",
    "import cv2\n",
    "import matplotlib.pyplot as plt\n",
    "import glob\n",
    "import os\n",
    "from utils import *"
   ]
  },
  {
   "cell_type": "code",
   "execution_count": 2,
   "metadata": {},
   "outputs": [],
   "source": [
    "image_8x = \"./IMG_8x\"\n",
    "image_8x_bi = \"./IMG_8x_bi\"\n",
    "trnd_img = \"./Trained_img\"\n",
    "result = \"./result/\"\n",
    "log = \"./logs/\""
   ]
  },
  {
   "cell_type": "code",
   "execution_count": 3,
   "metadata": {},
   "outputs": [],
   "source": [
    "if not os.path.exists(log):\n",
    "    os.mkdir(log)\n",
    "if not os.path.exists(result):\n",
    "    os.mkdir(result)\n",
    "images = []\n",
    "labels = []\n",
    "test_im = []\n",
    "overlap = 0"
   ]
  },
  {
   "cell_type": "code",
   "execution_count": 4,
   "metadata": {},
   "outputs": [
    {
     "ename": "InternalError",
     "evalue": "Failed to create session.",
     "output_type": "error",
     "traceback": [
      "\u001b[0;31m---------------------------------------------------------------------------\u001b[0m",
      "\u001b[0;31mInternalError\u001b[0m                             Traceback (most recent call last)",
      "\u001b[0;32m<ipython-input-4-5f560a3aa341>\u001b[0m in \u001b[0;36m<module>\u001b[0;34m()\u001b[0m\n\u001b[1;32m      3\u001b[0m \u001b[0mconfig\u001b[0m\u001b[0;34m.\u001b[0m\u001b[0mgpu_options\u001b[0m\u001b[0;34m.\u001b[0m\u001b[0mper_process_gpu_memory_fraction\u001b[0m \u001b[0;34m=\u001b[0m \u001b[0;36m0.5\u001b[0m \u001b[0;31m# maximun alloc gpu50% of MEM\u001b[0m\u001b[0;34m\u001b[0m\u001b[0m\n\u001b[1;32m      4\u001b[0m \u001b[0mconfig\u001b[0m\u001b[0;34m.\u001b[0m\u001b[0mgpu_options\u001b[0m\u001b[0;34m.\u001b[0m\u001b[0mallow_growth\u001b[0m \u001b[0;34m=\u001b[0m \u001b[0mTrue\u001b[0m \u001b[0;31m#allocate dynamically\u001b[0m\u001b[0;34m\u001b[0m\u001b[0m\n\u001b[0;32m----> 5\u001b[0;31m \u001b[0msess\u001b[0m \u001b[0;34m=\u001b[0m \u001b[0mtf\u001b[0m\u001b[0;34m.\u001b[0m\u001b[0mSession\u001b[0m\u001b[0;34m(\u001b[0m\u001b[0mconfig\u001b[0m \u001b[0;34m=\u001b[0m \u001b[0mconfig\u001b[0m\u001b[0;34m)\u001b[0m\u001b[0;34m\u001b[0m\u001b[0m\n\u001b[0m",
      "\u001b[0;32m/home/ceeri-dgx3/.local/lib/python2.7/site-packages/tensorflow/python/client/session.pyc\u001b[0m in \u001b[0;36m__init__\u001b[0;34m(self, target, graph, config)\u001b[0m\n\u001b[1;32m   1558\u001b[0m \u001b[0;34m\u001b[0m\u001b[0m\n\u001b[1;32m   1559\u001b[0m     \"\"\"\n\u001b[0;32m-> 1560\u001b[0;31m     \u001b[0msuper\u001b[0m\u001b[0;34m(\u001b[0m\u001b[0mSession\u001b[0m\u001b[0;34m,\u001b[0m \u001b[0mself\u001b[0m\u001b[0;34m)\u001b[0m\u001b[0;34m.\u001b[0m\u001b[0m__init__\u001b[0m\u001b[0;34m(\u001b[0m\u001b[0mtarget\u001b[0m\u001b[0;34m,\u001b[0m \u001b[0mgraph\u001b[0m\u001b[0;34m,\u001b[0m \u001b[0mconfig\u001b[0m\u001b[0;34m=\u001b[0m\u001b[0mconfig\u001b[0m\u001b[0;34m)\u001b[0m\u001b[0;34m\u001b[0m\u001b[0m\n\u001b[0m\u001b[1;32m   1561\u001b[0m     \u001b[0;31m# NOTE(mrry): Create these on first `__enter__` to avoid a reference cycle.\u001b[0m\u001b[0;34m\u001b[0m\u001b[0;34m\u001b[0m\u001b[0m\n\u001b[1;32m   1562\u001b[0m     \u001b[0mself\u001b[0m\u001b[0;34m.\u001b[0m\u001b[0m_default_graph_context_manager\u001b[0m \u001b[0;34m=\u001b[0m \u001b[0mNone\u001b[0m\u001b[0;34m\u001b[0m\u001b[0m\n",
      "\u001b[0;32m/home/ceeri-dgx3/.local/lib/python2.7/site-packages/tensorflow/python/client/session.pyc\u001b[0m in \u001b[0;36m__init__\u001b[0;34m(self, target, graph, config)\u001b[0m\n\u001b[1;32m    631\u001b[0m       \u001b[0;32mif\u001b[0m \u001b[0mself\u001b[0m\u001b[0;34m.\u001b[0m\u001b[0m_created_with_new_api\u001b[0m\u001b[0;34m:\u001b[0m\u001b[0;34m\u001b[0m\u001b[0m\n\u001b[1;32m    632\u001b[0m         \u001b[0;31m# pylint: disable=protected-access\u001b[0m\u001b[0;34m\u001b[0m\u001b[0;34m\u001b[0m\u001b[0m\n\u001b[0;32m--> 633\u001b[0;31m         \u001b[0mself\u001b[0m\u001b[0;34m.\u001b[0m\u001b[0m_session\u001b[0m \u001b[0;34m=\u001b[0m \u001b[0mtf_session\u001b[0m\u001b[0;34m.\u001b[0m\u001b[0mTF_NewSession\u001b[0m\u001b[0;34m(\u001b[0m\u001b[0mself\u001b[0m\u001b[0;34m.\u001b[0m\u001b[0m_graph\u001b[0m\u001b[0;34m.\u001b[0m\u001b[0m_c_graph\u001b[0m\u001b[0;34m,\u001b[0m \u001b[0mopts\u001b[0m\u001b[0;34m)\u001b[0m\u001b[0;34m\u001b[0m\u001b[0m\n\u001b[0m\u001b[1;32m    634\u001b[0m         \u001b[0;31m# pylint: enable=protected-access\u001b[0m\u001b[0;34m\u001b[0m\u001b[0;34m\u001b[0m\u001b[0m\n\u001b[1;32m    635\u001b[0m       \u001b[0;32melse\u001b[0m\u001b[0;34m:\u001b[0m\u001b[0;34m\u001b[0m\u001b[0m\n",
      "\u001b[0;31mInternalError\u001b[0m: Failed to create session."
     ]
    }
   ],
   "source": [
    "os.environ[\"CUDA_VISIBLE_DEVICES\"] = '0' #use GPU with ID=0\n",
    "config = tf.ConfigProto()\n",
    "config.gpu_options.per_process_gpu_memory_fraction = 0.5 # maximun alloc gpu50% of MEM\n",
    "config.gpu_options.allow_growth = True #allocate dynamically\n",
    "sess = tf.Session(config = config)"
   ]
  },
  {
   "cell_type": "code",
   "execution_count": null,
   "metadata": {},
   "outputs": [],
   "source": [
    "images = create_patch_normal(patchsize = 48, location = image_8x_bi, overlap = overlap)\n",
    "labels = create_patch_normal(patchsize = 48, location = image_8x, overlap = overlap)\n",
    "test_im = append_image(location = image_8x_bi)\n",
    "print(\"test_im = \", np.array(test_im).shape)\n",
    "print(\"images = \", np.array(images).shape)\n",
    "print(\"labels = \", np.array(labels).shape)\n"
   ]
  },
  {
   "cell_type": "code",
   "execution_count": null,
   "metadata": {},
   "outputs": [],
   "source": [
    "patch_height = patch_width = 48\n",
    "\n",
    "totsize = np.array(images).shape[0]\n",
    "images = np.array(images)\n",
    "labels = np.array(labels)\n",
    "test_im = np.array(test_im)\n",
    "images = images/float(255)\n",
    "labels = labels/float(255)\n",
    "test_im = test_im/float(255)\n",
    "images = np.reshape(images,(-1,patch_height,patch_width,1))\n",
    "labels = np.reshape(labels,(-1,patch_height,patch_width,1))\n"
   ]
  },
  {
   "cell_type": "code",
   "execution_count": null,
   "metadata": {},
   "outputs": [],
   "source": [
    "epochs = 10\n",
    "display_step = 10\n",
    "learningrate = 0.0001\n",
    "batch_size = 10\n",
    "n1 = 64\n",
    "n2 = 32\n",
    "n3 = 1"
   ]
  },
  {
   "cell_type": "code",
   "execution_count": null,
   "metadata": {},
   "outputs": [],
   "source": [
    "weights = {\n",
    "    'c1' : tf.Variable(tf.random_normal([9, 9, 1, n1], stddev = 0.1)),\n",
    "    'c2' : tf.Variable(tf.random_normal([5, 5, n1, n2], stddev = 0.1)),\n",
    "    'c3' : tf.Variable(tf.random_normal([5, 5, n2, n3], stddev = 0.1)),\n",
    "}\n",
    "\n",
    "biases = {\n",
    "    'be1' : tf.Variable(tf.random_normal([n1], stddev = 0.1)),\n",
    "    'be2' : tf.Variable(tf.random_normal([n2], stddev = 0.1)),\n",
    "    'be3' : tf.Variable(tf.random_normal([n3], stddev = 0.1)),\n",
    "}\n"
   ]
  },
  {
   "cell_type": "code",
   "execution_count": null,
   "metadata": {},
   "outputs": [],
   "source": [
    "def nextbatch(batch_i):\n",
    "    global ll\n",
    "    global hl\n",
    "    \n",
    "    ll = batch_i*batch_size\n",
    "    ul = batch_i*batch_size + (batch_size)\n",
    "    #print (ll)\n",
    "    #print (ul)\n",
    "    #if ul < totsize\n",
    "    tempx = images[ll:ul].copy()\n",
    "    #print('tempx_data shape:', np.array(tempx).shape)\n",
    "    tempy = labels[ll:ul].copy()\n",
    "    #print('tempy_data shape:', np.array(tempy).shape)\n",
    "    \"\"\"\n",
    "    test_tempx = np.reshape(tempx[25],(patch_size,patch_size))\n",
    "    test_tempy = np.reshape(tempy[25],(patch_size,patch_size))\n",
    "    plt.imshow(test_tempx)\n",
    "    plt.show()\n",
    "    plt.imshow(test_tempy)\n",
    "    plt.show()\n",
    "    \"\"\"\n",
    "\n",
    "    #print tempnoisy.shape\n",
    "    #tempx = tempx.reshape(batch_size, patch_width*patch_height)\n",
    "    #tempy = tempy.reshape(batch_size, patch_width*patch_height)\n",
    "    #print(tempy)\n",
    "    #print(tempx)\n",
    "    #ll = ll+incr\n",
    "    return tempy, tempx"
   ]
  },
  {
   "cell_type": "code",
   "execution_count": null,
   "metadata": {},
   "outputs": [],
   "source": [
    "inputs = tf.placeholder(tf.float32, shape = (None,None,None,1), name = 'inputs')\n",
    "targets = tf.placeholder(tf.float32, shape = (batch_size,patch_height,patch_width,1), name = 'targets')\n",
    "keepprob = tf.placeholder(tf.float32)\n",
    "\n",
    "def cae (_X, _W, _b, _keepprob, reuse=False):\n",
    "    _ce1 = tf.nn.relu(tf.add(tf.nn.conv2d(_X, _W['c1'], strides = [1,1,1,1], padding='SAME'), _b['be1']))\n",
    "    _ce1 = tf.nn.dropout(_ce1, _keepprob)\n",
    "    _ce2 = tf.nn.relu(tf.add(tf.nn.conv2d(_ce1, _W['c2'], strides = [1,1,1,1], padding='SAME'), _b['be2']))\n",
    "    _ce2 = tf.nn.dropout(_ce2, _keepprob)\n",
    "    _ce3 = tf.nn.relu(tf.add(tf.nn.conv2d(_ce2, _W['c3'], strides = [1,1,1,1], padding='SAME'), _b['be3']))\n",
    "    _ce3 = tf.nn.dropout(_ce3, _keepprob)\n",
    "    return _ce3\n",
    "\n",
    "pred = cae(inputs,weights,biases,keepprob)\n",
    "cost = tf.reduce_mean(tf.square(pred - targets)) #tf.losses.mean_squared_error(targets,pred)#    \n",
    "opti = tf.train.AdamOptimizer(learningrate).minimize(cost)\n"
   ]
  },
  {
   "cell_type": "code",
   "execution_count": null,
   "metadata": {},
   "outputs": [],
   "source": [
    "saver = tf.train.Saver()\n",
    "init = tf.global_variables_initializer()\n",
    "sess = tf.Session()\n",
    "sess.run(init)\n",
    "print(\"Start Training\")\n",
    "l = 0\n",
    "for epoch_i in range(epochs):\n",
    "    num_batch = int(totsize/(batch_size))\n",
    "    for batch_i in range(num_batch):\n",
    "        batch_y, batch_x = nextbatch(batch_i) #batch_y is for noise and batch_x is for image\n",
    "        #cv2.imshow(\"Image\", small_true_batch[0].reshape(dimension1,dimension1))\n",
    "        #cv2.waitKey(0)\n",
    "        #sess.run(optms, feed_dict = {x:masked_batch, y_mid:small_true_batch, y:true_batch, keepprob:1.})\n",
    "        sess.run(opti, feed_dict = {inputs:batch_x, targets:batch_y, keepprob:1})\n",
    "        #sess.run(optm, feed_dict = {x:masked_batch,y_mid:small_true_batch, y: true_batch, keepprob:1.})\n",
    "    print(\"[%02d/%02d] cost: %.10f\" % (epoch_i, epochs, sess.run(cost, feed_dict={inputs : batch_x, targets: batch_y, keepprob :1})))\n",
    "    if epoch_i % display_step == 0 or epoch_i == epochs - 1:\n",
    "        saver.save(sess, \"./logs/latestmodel.ckpt\")\n",
    "        k = test_im.shape[0]\n",
    "        print(\"k = \", k)\n",
    "        for i in range (k):\n",
    "            im_test = test_im[i]\n",
    "            im_test_height = im_test.shape[0]\n",
    "            print(im_test_height)\n",
    "            im_test_width = im_test.shape[1]\n",
    "            print(im_test_width)\n",
    "            recon = sess.run(pred, feed_dict = {inputs:im_test.reshape(1,im_test_height,im_test_width,1), keepprob:1})\n",
    "            reshape = np.reshape(recon,(im_test_height,im_test_width))\n",
    "            #plt.imshow(reshape)\n",
    "            #plt.show()\n",
    "            #recreated = deprocess(reshape)\n",
    "            recreated = reshape*255\n",
    "            print(np.array(recreated).shape)\n",
    "            cv2.imwrite(result+str(i)+\"-im\"+str(l)+\".png\", recreated)\n",
    "        l = l+1\n",
    "\n",
    "\n",
    "\n"
   ]
  },
  {
   "cell_type": "code",
   "execution_count": null,
   "metadata": {},
   "outputs": [],
   "source": []
  }
 ],
 "metadata": {
  "kernelspec": {
   "display_name": "Python 2",
   "language": "python",
   "name": "python2"
  },
  "language_info": {
   "codemirror_mode": {
    "name": "ipython",
    "version": 2
   },
   "file_extension": ".py",
   "mimetype": "text/x-python",
   "name": "python",
   "nbconvert_exporter": "python",
   "pygments_lexer": "ipython2",
   "version": "2.7.12"
  }
 },
 "nbformat": 4,
 "nbformat_minor": 2
}
